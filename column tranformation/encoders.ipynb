{
 "cells": [
  {
   "cell_type": "code",
   "execution_count": 1,
   "id": "4e5e942f-4ccd-4055-801e-88b6870e4e43",
   "metadata": {},
   "outputs": [],
   "source": [
    "import numpy as np\n",
    "import pandas as pd"
   ]
  },
  {
   "cell_type": "code",
   "execution_count": null,
   "id": "a247fb8c-0571-42fc-8ffc-58dae4613773",
   "metadata": {},
   "outputs": [],
   "source": []
  },
  {
   "cell_type": "code",
   "execution_count": 26,
   "id": "24d15865-ba7b-49c9-8eba-499b8806d81d",
   "metadata": {},
   "outputs": [],
   "source": [
    "data = pd.DataFrame({\n",
    "    \"name\" : [\"kriss\", \"moris\", \"hlo\", \"jhon\", \"mohan\"],\n",
    "    \"age\" : [21, 22, 32, 12, 23],\n",
    "    \"fvrt_color\" : [\"aa\", \"blue\", \"red\", \"green\", \"green\"]\n",
    "})"
   ]
  },
  {
   "cell_type": "code",
   "execution_count": 27,
   "id": "bcf3fbb9-16e4-4c8d-891f-4034c77a10e6",
   "metadata": {},
   "outputs": [
    {
     "data": {
      "text/html": [
       "<div>\n",
       "<style scoped>\n",
       "    .dataframe tbody tr th:only-of-type {\n",
       "        vertical-align: middle;\n",
       "    }\n",
       "\n",
       "    .dataframe tbody tr th {\n",
       "        vertical-align: top;\n",
       "    }\n",
       "\n",
       "    .dataframe thead th {\n",
       "        text-align: right;\n",
       "    }\n",
       "</style>\n",
       "<table border=\"1\" class=\"dataframe\">\n",
       "  <thead>\n",
       "    <tr style=\"text-align: right;\">\n",
       "      <th></th>\n",
       "      <th>name</th>\n",
       "      <th>age</th>\n",
       "      <th>fvrt_color</th>\n",
       "    </tr>\n",
       "  </thead>\n",
       "  <tbody>\n",
       "    <tr>\n",
       "      <th>0</th>\n",
       "      <td>kriss</td>\n",
       "      <td>21</td>\n",
       "      <td>aa</td>\n",
       "    </tr>\n",
       "    <tr>\n",
       "      <th>1</th>\n",
       "      <td>moris</td>\n",
       "      <td>22</td>\n",
       "      <td>blue</td>\n",
       "    </tr>\n",
       "    <tr>\n",
       "      <th>2</th>\n",
       "      <td>hlo</td>\n",
       "      <td>32</td>\n",
       "      <td>red</td>\n",
       "    </tr>\n",
       "    <tr>\n",
       "      <th>3</th>\n",
       "      <td>jhon</td>\n",
       "      <td>12</td>\n",
       "      <td>green</td>\n",
       "    </tr>\n",
       "    <tr>\n",
       "      <th>4</th>\n",
       "      <td>mohan</td>\n",
       "      <td>23</td>\n",
       "      <td>green</td>\n",
       "    </tr>\n",
       "  </tbody>\n",
       "</table>\n",
       "</div>"
      ],
      "text/plain": [
       "    name  age fvrt_color\n",
       "0  kriss   21         aa\n",
       "1  moris   22       blue\n",
       "2    hlo   32        red\n",
       "3   jhon   12      green\n",
       "4  mohan   23      green"
      ]
     },
     "execution_count": 27,
     "metadata": {},
     "output_type": "execute_result"
    }
   ],
   "source": [
    "data"
   ]
  },
  {
   "cell_type": "code",
   "execution_count": null,
   "id": "1cf8c8d2-647e-4e6f-80ad-1feb2cb68469",
   "metadata": {},
   "outputs": [],
   "source": []
  },
  {
   "cell_type": "code",
   "execution_count": 28,
   "id": "08429935-3e23-4322-a659-9ad8d72f8e35",
   "metadata": {},
   "outputs": [
    {
     "data": {
      "text/plain": [
       "fvrt_color\n",
       "green    2\n",
       "aa       1\n",
       "blue     1\n",
       "red      1\n",
       "Name: count, dtype: int64"
      ]
     },
     "execution_count": 28,
     "metadata": {},
     "output_type": "execute_result"
    }
   ],
   "source": [
    "data[\"fvrt_color\"].value_counts()"
   ]
  },
  {
   "cell_type": "code",
   "execution_count": null,
   "id": "6ff30dc7-684c-47db-8e23-a51853b2cb7c",
   "metadata": {},
   "outputs": [],
   "source": []
  },
  {
   "cell_type": "code",
   "execution_count": null,
   "id": "ff3e263e-c7f2-42a9-b197-00d074a54af2",
   "metadata": {},
   "outputs": [],
   "source": []
  },
  {
   "cell_type": "code",
   "execution_count": 29,
   "id": "e3129176-9287-4e45-985a-722922e2010b",
   "metadata": {},
   "outputs": [],
   "source": [
    "# 1) Label Encoder\n"
   ]
  },
  {
   "cell_type": "code",
   "execution_count": 30,
   "id": "aaf20b25-be08-434e-8692-3baebd38e298",
   "metadata": {},
   "outputs": [
    {
     "data": {
      "text/html": [
       "<div>\n",
       "<style scoped>\n",
       "    .dataframe tbody tr th:only-of-type {\n",
       "        vertical-align: middle;\n",
       "    }\n",
       "\n",
       "    .dataframe tbody tr th {\n",
       "        vertical-align: top;\n",
       "    }\n",
       "\n",
       "    .dataframe thead th {\n",
       "        text-align: right;\n",
       "    }\n",
       "</style>\n",
       "<table border=\"1\" class=\"dataframe\">\n",
       "  <thead>\n",
       "    <tr style=\"text-align: right;\">\n",
       "      <th></th>\n",
       "      <th>name</th>\n",
       "      <th>age</th>\n",
       "      <th>fvrt_color</th>\n",
       "    </tr>\n",
       "  </thead>\n",
       "  <tbody>\n",
       "    <tr>\n",
       "      <th>0</th>\n",
       "      <td>kriss</td>\n",
       "      <td>21</td>\n",
       "      <td>aa</td>\n",
       "    </tr>\n",
       "    <tr>\n",
       "      <th>1</th>\n",
       "      <td>moris</td>\n",
       "      <td>22</td>\n",
       "      <td>blue</td>\n",
       "    </tr>\n",
       "    <tr>\n",
       "      <th>2</th>\n",
       "      <td>hlo</td>\n",
       "      <td>32</td>\n",
       "      <td>red</td>\n",
       "    </tr>\n",
       "    <tr>\n",
       "      <th>3</th>\n",
       "      <td>jhon</td>\n",
       "      <td>12</td>\n",
       "      <td>green</td>\n",
       "    </tr>\n",
       "    <tr>\n",
       "      <th>4</th>\n",
       "      <td>mohan</td>\n",
       "      <td>23</td>\n",
       "      <td>green</td>\n",
       "    </tr>\n",
       "  </tbody>\n",
       "</table>\n",
       "</div>"
      ],
      "text/plain": [
       "    name  age fvrt_color\n",
       "0  kriss   21         aa\n",
       "1  moris   22       blue\n",
       "2    hlo   32        red\n",
       "3   jhon   12      green\n",
       "4  mohan   23      green"
      ]
     },
     "execution_count": 30,
     "metadata": {},
     "output_type": "execute_result"
    }
   ],
   "source": [
    "data"
   ]
  },
  {
   "cell_type": "code",
   "execution_count": null,
   "id": "2207451d-9434-4069-87a0-05e948994cd4",
   "metadata": {},
   "outputs": [],
   "source": []
  },
  {
   "cell_type": "code",
   "execution_count": 31,
   "id": "a3e8fb79-2c0a-43ec-805a-d552030c5527",
   "metadata": {},
   "outputs": [],
   "source": [
    "from sklearn.preprocessing import LabelEncoder"
   ]
  },
  {
   "cell_type": "code",
   "execution_count": 32,
   "id": "00da4ed3-ab47-4cb5-9ae7-fecfabf451ab",
   "metadata": {},
   "outputs": [],
   "source": [
    "lblenc = LabelEncoder()"
   ]
  },
  {
   "cell_type": "code",
   "execution_count": 33,
   "id": "e93ef3f5-69a6-4c6b-a303-227352c4e3d9",
   "metadata": {},
   "outputs": [],
   "source": [
    "encoded_coloumn = lblenc.fit_transform(data[\"fvrt_color\"])"
   ]
  },
  {
   "cell_type": "code",
   "execution_count": 34,
   "id": "dd183d26-d839-4c73-994a-7d31b5464a9f",
   "metadata": {},
   "outputs": [
    {
     "data": {
      "text/plain": [
       "array([0, 1, 3, 2, 2])"
      ]
     },
     "execution_count": 34,
     "metadata": {},
     "output_type": "execute_result"
    }
   ],
   "source": [
    "encoded_coloumn"
   ]
  },
  {
   "cell_type": "code",
   "execution_count": 35,
   "id": "c7f98bfa-ccd8-4e80-815a-498d145ef566",
   "metadata": {},
   "outputs": [],
   "source": [
    "data[\"fvrt_colorr\"] = encoded_coloumn"
   ]
  },
  {
   "cell_type": "code",
   "execution_count": 36,
   "id": "fe04aacf-a7aa-4e49-88c9-7bb695bdc503",
   "metadata": {},
   "outputs": [
    {
     "data": {
      "text/html": [
       "<div>\n",
       "<style scoped>\n",
       "    .dataframe tbody tr th:only-of-type {\n",
       "        vertical-align: middle;\n",
       "    }\n",
       "\n",
       "    .dataframe tbody tr th {\n",
       "        vertical-align: top;\n",
       "    }\n",
       "\n",
       "    .dataframe thead th {\n",
       "        text-align: right;\n",
       "    }\n",
       "</style>\n",
       "<table border=\"1\" class=\"dataframe\">\n",
       "  <thead>\n",
       "    <tr style=\"text-align: right;\">\n",
       "      <th></th>\n",
       "      <th>name</th>\n",
       "      <th>age</th>\n",
       "      <th>fvrt_color</th>\n",
       "      <th>fvrt_colorr</th>\n",
       "    </tr>\n",
       "  </thead>\n",
       "  <tbody>\n",
       "    <tr>\n",
       "      <th>0</th>\n",
       "      <td>kriss</td>\n",
       "      <td>21</td>\n",
       "      <td>aa</td>\n",
       "      <td>0</td>\n",
       "    </tr>\n",
       "    <tr>\n",
       "      <th>1</th>\n",
       "      <td>moris</td>\n",
       "      <td>22</td>\n",
       "      <td>blue</td>\n",
       "      <td>1</td>\n",
       "    </tr>\n",
       "    <tr>\n",
       "      <th>2</th>\n",
       "      <td>hlo</td>\n",
       "      <td>32</td>\n",
       "      <td>red</td>\n",
       "      <td>3</td>\n",
       "    </tr>\n",
       "    <tr>\n",
       "      <th>3</th>\n",
       "      <td>jhon</td>\n",
       "      <td>12</td>\n",
       "      <td>green</td>\n",
       "      <td>2</td>\n",
       "    </tr>\n",
       "    <tr>\n",
       "      <th>4</th>\n",
       "      <td>mohan</td>\n",
       "      <td>23</td>\n",
       "      <td>green</td>\n",
       "      <td>2</td>\n",
       "    </tr>\n",
       "  </tbody>\n",
       "</table>\n",
       "</div>"
      ],
      "text/plain": [
       "    name  age fvrt_color  fvrt_colorr\n",
       "0  kriss   21         aa            0\n",
       "1  moris   22       blue            1\n",
       "2    hlo   32        red            3\n",
       "3   jhon   12      green            2\n",
       "4  mohan   23      green            2"
      ]
     },
     "execution_count": 36,
     "metadata": {},
     "output_type": "execute_result"
    }
   ],
   "source": [
    "data"
   ]
  },
  {
   "cell_type": "code",
   "execution_count": null,
   "id": "5bdba676-b56c-49c1-a7fa-28e1c663eb80",
   "metadata": {},
   "outputs": [],
   "source": []
  },
  {
   "cell_type": "code",
   "execution_count": null,
   "id": "8437d3be-aa9c-4191-9756-cfc08879a133",
   "metadata": {},
   "outputs": [],
   "source": []
  },
  {
   "cell_type": "code",
   "execution_count": 37,
   "id": "700f8fdb-9e89-4dbd-9dac-de887980a708",
   "metadata": {},
   "outputs": [],
   "source": [
    "# 2) one-hot encoding ---binary\n",
    "\n",
    "data = pd.DataFrame({\n",
    "    \"name\" : [\"kriss\", \"moris\", \"hlo\", \"jhon\", \"mohan\"],\n",
    "    \"age\" : [21, 22, 32, 12, 23],\n",
    "    \"fvrt_color\" : [\"red\", \"blue\", \"red\", \"green\", \"green\"]\n",
    "})"
   ]
  },
  {
   "cell_type": "code",
   "execution_count": null,
   "id": "500a91bb-77a1-4a81-84dc-85d6bee16c58",
   "metadata": {},
   "outputs": [],
   "source": []
  },
  {
   "cell_type": "code",
   "execution_count": 38,
   "id": "2a09a1c5-1a66-41f9-9bfa-135f91ee6a9f",
   "metadata": {},
   "outputs": [
    {
     "data": {
      "text/plain": [
       "fvrt_color\n",
       "red      2\n",
       "green    2\n",
       "blue     1\n",
       "Name: count, dtype: int64"
      ]
     },
     "execution_count": 38,
     "metadata": {},
     "output_type": "execute_result"
    }
   ],
   "source": [
    "data[\"fvrt_color\"].value_counts()"
   ]
  },
  {
   "cell_type": "code",
   "execution_count": null,
   "id": "cc976fff-ed6e-48e5-8506-b813f34c9e1b",
   "metadata": {},
   "outputs": [],
   "source": []
  },
  {
   "cell_type": "code",
   "execution_count": null,
   "id": "e2608955-b866-42c4-bfa6-71dc913be940",
   "metadata": {},
   "outputs": [],
   "source": []
  },
  {
   "cell_type": "code",
   "execution_count": 63,
   "id": "87be9459-421e-4021-b039-5cb29e831ce2",
   "metadata": {},
   "outputs": [],
   "source": [
    "from sklearn.preprocessing import OneHotEncoder"
   ]
  },
  {
   "cell_type": "code",
   "execution_count": 64,
   "id": "df09c187-00ca-4511-83a5-57340a5dae6a",
   "metadata": {},
   "outputs": [],
   "source": [
    "ohe = OneHotEncoder(sparse_output=False)"
   ]
  },
  {
   "cell_type": "code",
   "execution_count": 65,
   "id": "fa4cf8d7-ca68-4af0-b43c-8924b793a63c",
   "metadata": {},
   "outputs": [],
   "source": [
    "dta = ohe.fit_transform(data[[\"fvrt_color\"]])"
   ]
  },
  {
   "cell_type": "code",
   "execution_count": 66,
   "id": "caff660d-65df-4728-b300-f2bcc4cd45c7",
   "metadata": {},
   "outputs": [
    {
     "data": {
      "text/plain": [
       "array([[0., 0., 1.],\n",
       "       [1., 0., 0.],\n",
       "       [0., 0., 1.],\n",
       "       [0., 1., 0.],\n",
       "       [0., 1., 0.]])"
      ]
     },
     "execution_count": 66,
     "metadata": {},
     "output_type": "execute_result"
    }
   ],
   "source": [
    "dta"
   ]
  },
  {
   "cell_type": "code",
   "execution_count": 73,
   "id": "21f12971-1b8a-494b-8280-eb26f913cc90",
   "metadata": {},
   "outputs": [],
   "source": [
    "data[\"blue\"] = dta[:, 0]\n",
    "data[\"green\"] = dta[:, 1]\n",
    "data[\"red\"] = dta[:, 2]"
   ]
  },
  {
   "cell_type": "code",
   "execution_count": 74,
   "id": "4b7685f2-410b-48ea-ae23-ced49e7cd76e",
   "metadata": {},
   "outputs": [
    {
     "data": {
      "text/html": [
       "<div>\n",
       "<style scoped>\n",
       "    .dataframe tbody tr th:only-of-type {\n",
       "        vertical-align: middle;\n",
       "    }\n",
       "\n",
       "    .dataframe tbody tr th {\n",
       "        vertical-align: top;\n",
       "    }\n",
       "\n",
       "    .dataframe thead th {\n",
       "        text-align: right;\n",
       "    }\n",
       "</style>\n",
       "<table border=\"1\" class=\"dataframe\">\n",
       "  <thead>\n",
       "    <tr style=\"text-align: right;\">\n",
       "      <th></th>\n",
       "      <th>name</th>\n",
       "      <th>age</th>\n",
       "      <th>fvrt_color</th>\n",
       "      <th>red</th>\n",
       "      <th>green</th>\n",
       "      <th>blue</th>\n",
       "    </tr>\n",
       "  </thead>\n",
       "  <tbody>\n",
       "    <tr>\n",
       "      <th>0</th>\n",
       "      <td>kriss</td>\n",
       "      <td>21</td>\n",
       "      <td>red</td>\n",
       "      <td>1.0</td>\n",
       "      <td>0.0</td>\n",
       "      <td>0.0</td>\n",
       "    </tr>\n",
       "    <tr>\n",
       "      <th>1</th>\n",
       "      <td>moris</td>\n",
       "      <td>22</td>\n",
       "      <td>blue</td>\n",
       "      <td>0.0</td>\n",
       "      <td>0.0</td>\n",
       "      <td>1.0</td>\n",
       "    </tr>\n",
       "    <tr>\n",
       "      <th>2</th>\n",
       "      <td>hlo</td>\n",
       "      <td>32</td>\n",
       "      <td>red</td>\n",
       "      <td>1.0</td>\n",
       "      <td>0.0</td>\n",
       "      <td>0.0</td>\n",
       "    </tr>\n",
       "    <tr>\n",
       "      <th>3</th>\n",
       "      <td>jhon</td>\n",
       "      <td>12</td>\n",
       "      <td>green</td>\n",
       "      <td>0.0</td>\n",
       "      <td>1.0</td>\n",
       "      <td>0.0</td>\n",
       "    </tr>\n",
       "    <tr>\n",
       "      <th>4</th>\n",
       "      <td>mohan</td>\n",
       "      <td>23</td>\n",
       "      <td>green</td>\n",
       "      <td>0.0</td>\n",
       "      <td>1.0</td>\n",
       "      <td>0.0</td>\n",
       "    </tr>\n",
       "  </tbody>\n",
       "</table>\n",
       "</div>"
      ],
      "text/plain": [
       "    name  age fvrt_color  red  green  blue\n",
       "0  kriss   21        red  1.0    0.0   0.0\n",
       "1  moris   22       blue  0.0    0.0   1.0\n",
       "2    hlo   32        red  1.0    0.0   0.0\n",
       "3   jhon   12      green  0.0    1.0   0.0\n",
       "4  mohan   23      green  0.0    1.0   0.0"
      ]
     },
     "execution_count": 74,
     "metadata": {},
     "output_type": "execute_result"
    }
   ],
   "source": [
    "data"
   ]
  },
  {
   "cell_type": "code",
   "execution_count": null,
   "id": "193ba9de-f627-472e-b14d-a9b9cd520fb7",
   "metadata": {},
   "outputs": [],
   "source": []
  },
  {
   "cell_type": "code",
   "execution_count": 76,
   "id": "ba39b6c3-e407-4622-8040-0c4e336113f4",
   "metadata": {},
   "outputs": [],
   "source": [
    "# pandas ---> get_dummies()"
   ]
  },
  {
   "cell_type": "code",
   "execution_count": 77,
   "id": "7098ce4e-ea82-4726-a5a3-973956713bd2",
   "metadata": {},
   "outputs": [],
   "source": [
    "# 2) one-hot encoding ---binary\n",
    "\n",
    "data = pd.DataFrame({\n",
    "    \"name\" : [\"kriss\", \"moris\", \"hlo\", \"jhon\", \"mohan\"],\n",
    "    \"age\" : [21, 22, 32, 12, 23],\n",
    "    \"fvrt_color\" : [\"red\", \"blue\", \"red\", \"green\", \"green\"]\n",
    "})"
   ]
  },
  {
   "cell_type": "code",
   "execution_count": 90,
   "id": "d49cb538-87ba-4034-b2ae-6a68c32fba49",
   "metadata": {},
   "outputs": [],
   "source": [
    "data_nw = pd.get_dummies(data[\"fvrt_color\"], dtype = \"int\")"
   ]
  },
  {
   "cell_type": "code",
   "execution_count": null,
   "id": "7d48510c-d390-49c4-9960-a8642fb7bd31",
   "metadata": {},
   "outputs": [],
   "source": []
  },
  {
   "cell_type": "code",
   "execution_count": 91,
   "id": "4615aa79-b345-4456-850b-ac80e3df45d8",
   "metadata": {},
   "outputs": [
    {
     "data": {
      "text/html": [
       "<div>\n",
       "<style scoped>\n",
       "    .dataframe tbody tr th:only-of-type {\n",
       "        vertical-align: middle;\n",
       "    }\n",
       "\n",
       "    .dataframe tbody tr th {\n",
       "        vertical-align: top;\n",
       "    }\n",
       "\n",
       "    .dataframe thead th {\n",
       "        text-align: right;\n",
       "    }\n",
       "</style>\n",
       "<table border=\"1\" class=\"dataframe\">\n",
       "  <thead>\n",
       "    <tr style=\"text-align: right;\">\n",
       "      <th></th>\n",
       "      <th>name</th>\n",
       "      <th>age</th>\n",
       "      <th>fvrt_color</th>\n",
       "      <th>blue</th>\n",
       "      <th>green</th>\n",
       "      <th>red</th>\n",
       "    </tr>\n",
       "  </thead>\n",
       "  <tbody>\n",
       "    <tr>\n",
       "      <th>0</th>\n",
       "      <td>kriss</td>\n",
       "      <td>21</td>\n",
       "      <td>red</td>\n",
       "      <td>0</td>\n",
       "      <td>0</td>\n",
       "      <td>1</td>\n",
       "    </tr>\n",
       "    <tr>\n",
       "      <th>1</th>\n",
       "      <td>moris</td>\n",
       "      <td>22</td>\n",
       "      <td>blue</td>\n",
       "      <td>1</td>\n",
       "      <td>0</td>\n",
       "      <td>0</td>\n",
       "    </tr>\n",
       "    <tr>\n",
       "      <th>2</th>\n",
       "      <td>hlo</td>\n",
       "      <td>32</td>\n",
       "      <td>red</td>\n",
       "      <td>0</td>\n",
       "      <td>0</td>\n",
       "      <td>1</td>\n",
       "    </tr>\n",
       "    <tr>\n",
       "      <th>3</th>\n",
       "      <td>jhon</td>\n",
       "      <td>12</td>\n",
       "      <td>green</td>\n",
       "      <td>0</td>\n",
       "      <td>1</td>\n",
       "      <td>0</td>\n",
       "    </tr>\n",
       "    <tr>\n",
       "      <th>4</th>\n",
       "      <td>mohan</td>\n",
       "      <td>23</td>\n",
       "      <td>green</td>\n",
       "      <td>0</td>\n",
       "      <td>1</td>\n",
       "      <td>0</td>\n",
       "    </tr>\n",
       "  </tbody>\n",
       "</table>\n",
       "</div>"
      ],
      "text/plain": [
       "    name  age fvrt_color  blue  green  red\n",
       "0  kriss   21        red     0      0    1\n",
       "1  moris   22       blue     1      0    0\n",
       "2    hlo   32        red     0      0    1\n",
       "3   jhon   12      green     0      1    0\n",
       "4  mohan   23      green     0      1    0"
      ]
     },
     "execution_count": 91,
     "metadata": {},
     "output_type": "execute_result"
    }
   ],
   "source": [
    "data.join(data_nw)"
   ]
  },
  {
   "cell_type": "code",
   "execution_count": null,
   "id": "0e0ecd81-ef4c-41b5-bb86-051efb2afb43",
   "metadata": {},
   "outputs": [],
   "source": []
  },
  {
   "cell_type": "code",
   "execution_count": 92,
   "id": "da35b785-b0c8-498f-9eb9-0aff2055f639",
   "metadata": {},
   "outputs": [
    {
     "ename": "SyntaxError",
     "evalue": "invalid syntax (2034929454.py, line 1)",
     "output_type": "error",
     "traceback": [
      "\u001b[1;36m  Cell \u001b[1;32mIn[92], line 1\u001b[1;36m\u001b[0m\n\u001b[1;33m    label encoder\u001b[0m\n\u001b[1;37m          ^\u001b[0m\n\u001b[1;31mSyntaxError\u001b[0m\u001b[1;31m:\u001b[0m invalid syntax\n"
     ]
    }
   ],
   "source": [
    "label encoder\n",
    "one hot encoder\n",
    "get_dummies\n",
    "\n",
    "\n",
    "\n",
    "10)"
   ]
  },
  {
   "cell_type": "code",
   "execution_count": null,
   "id": "275816c6-34c3-4480-a9e3-fc5552b04e1b",
   "metadata": {},
   "outputs": [],
   "source": []
  },
  {
   "cell_type": "code",
   "execution_count": 93,
   "id": "244a1ad3-74b7-4e9d-9487-9da84414bacc",
   "metadata": {},
   "outputs": [],
   "source": [
    "# odinal encoder"
   ]
  },
  {
   "cell_type": "code",
   "execution_count": 96,
   "id": "bf66c536-56e6-4f89-8e3e-7348bbd02457",
   "metadata": {},
   "outputs": [],
   "source": [
    "# 2) one-hot encoding ---binary\n",
    "\n",
    "data = pd.DataFrame({\n",
    "    \"name\" : [\"kriss\", \"moris\", \"hlo\", \"jhon\", \"mohan\"],\n",
    "    \"age\" : [21, 22, 32, 12, 23],\n",
    "    \"fvrt_color\" : [\"red\", \"blue\", \"red\", \"green\", \"green\"]\n",
    "})"
   ]
  },
  {
   "cell_type": "code",
   "execution_count": 101,
   "id": "4b08e2f5-e3c1-4446-9100-1dfecd8e2697",
   "metadata": {},
   "outputs": [],
   "source": [
    "from sklearn.preprocessing import OrdinalEncoder"
   ]
  },
  {
   "cell_type": "code",
   "execution_count": 103,
   "id": "c64ed726-f624-4ba5-818a-99b75fd74693",
   "metadata": {},
   "outputs": [],
   "source": [
    "oe = OrdinalEncoder(categories = [[\"green\", \"blue\", \"red\"]])\n"
   ]
  },
  {
   "cell_type": "code",
   "execution_count": 105,
   "id": "e6c59857-26b6-4c73-8338-00c7739df3fa",
   "metadata": {},
   "outputs": [],
   "source": [
    "xy = oe.fit_transform(data[[\"fvrt_color\"]])"
   ]
  },
  {
   "cell_type": "code",
   "execution_count": 106,
   "id": "8985e566-8801-4ac7-9ed7-c44bbd1a6077",
   "metadata": {},
   "outputs": [],
   "source": [
    "data[\"new\"] = xy"
   ]
  },
  {
   "cell_type": "code",
   "execution_count": 107,
   "id": "ee8d42aa-7258-4ec2-a955-66e0b2ba44aa",
   "metadata": {},
   "outputs": [
    {
     "data": {
      "text/html": [
       "<div>\n",
       "<style scoped>\n",
       "    .dataframe tbody tr th:only-of-type {\n",
       "        vertical-align: middle;\n",
       "    }\n",
       "\n",
       "    .dataframe tbody tr th {\n",
       "        vertical-align: top;\n",
       "    }\n",
       "\n",
       "    .dataframe thead th {\n",
       "        text-align: right;\n",
       "    }\n",
       "</style>\n",
       "<table border=\"1\" class=\"dataframe\">\n",
       "  <thead>\n",
       "    <tr style=\"text-align: right;\">\n",
       "      <th></th>\n",
       "      <th>name</th>\n",
       "      <th>age</th>\n",
       "      <th>fvrt_color</th>\n",
       "      <th>new</th>\n",
       "    </tr>\n",
       "  </thead>\n",
       "  <tbody>\n",
       "    <tr>\n",
       "      <th>0</th>\n",
       "      <td>kriss</td>\n",
       "      <td>21</td>\n",
       "      <td>red</td>\n",
       "      <td>2.0</td>\n",
       "    </tr>\n",
       "    <tr>\n",
       "      <th>1</th>\n",
       "      <td>moris</td>\n",
       "      <td>22</td>\n",
       "      <td>blue</td>\n",
       "      <td>1.0</td>\n",
       "    </tr>\n",
       "    <tr>\n",
       "      <th>2</th>\n",
       "      <td>hlo</td>\n",
       "      <td>32</td>\n",
       "      <td>red</td>\n",
       "      <td>2.0</td>\n",
       "    </tr>\n",
       "    <tr>\n",
       "      <th>3</th>\n",
       "      <td>jhon</td>\n",
       "      <td>12</td>\n",
       "      <td>green</td>\n",
       "      <td>0.0</td>\n",
       "    </tr>\n",
       "    <tr>\n",
       "      <th>4</th>\n",
       "      <td>mohan</td>\n",
       "      <td>23</td>\n",
       "      <td>green</td>\n",
       "      <td>0.0</td>\n",
       "    </tr>\n",
       "  </tbody>\n",
       "</table>\n",
       "</div>"
      ],
      "text/plain": [
       "    name  age fvrt_color  new\n",
       "0  kriss   21        red  2.0\n",
       "1  moris   22       blue  1.0\n",
       "2    hlo   32        red  2.0\n",
       "3   jhon   12      green  0.0\n",
       "4  mohan   23      green  0.0"
      ]
     },
     "execution_count": 107,
     "metadata": {},
     "output_type": "execute_result"
    }
   ],
   "source": [
    "data"
   ]
  },
  {
   "cell_type": "code",
   "execution_count": null,
   "id": "50b11fba-75c5-4ead-a17e-e4244deb82c2",
   "metadata": {},
   "outputs": [],
   "source": []
  }
 ],
 "metadata": {
  "kernelspec": {
   "display_name": "Python 3 (ipykernel)",
   "language": "python",
   "name": "python3"
  },
  "language_info": {
   "codemirror_mode": {
    "name": "ipython",
    "version": 3
   },
   "file_extension": ".py",
   "mimetype": "text/x-python",
   "name": "python",
   "nbconvert_exporter": "python",
   "pygments_lexer": "ipython3",
   "version": "3.12.3"
  }
 },
 "nbformat": 4,
 "nbformat_minor": 5
}
